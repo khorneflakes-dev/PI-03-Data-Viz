{
 "cells": [
  {
   "cell_type": "code",
   "execution_count": 454,
   "metadata": {},
   "outputs": [],
   "source": [
    "import pandas as pd"
   ]
  },
  {
   "cell_type": "code",
   "execution_count": 455,
   "metadata": {},
   "outputs": [
    {
     "name": "stdout",
     "output_type": "stream",
     "text": [
      "(5008, 18)\n",
      "Unnamed: 0                0\n",
      "fecha                     0\n",
      "HORA declarada            0\n",
      "Ruta                      0\n",
      "OperadOR                  0\n",
      "flight_no                 0\n",
      "route                     0\n",
      "ac_type                   0\n",
      "registration              0\n",
      "cn_ln                     0\n",
      "all_aboard                0\n",
      "PASAJEROS A BORDO         0\n",
      "crew_aboard               0\n",
      "cantidad de fallecidos    0\n",
      "passenger_fatalities      0\n",
      "crew_fatalities           0\n",
      "ground                    0\n",
      "summary                   0\n",
      "dtype: int64\n"
     ]
    }
   ],
   "source": [
    "df = pd.read_csv('./AccidentesAviones.csv')\n",
    "print(df.shape)\n",
    "print(df.isnull().sum())"
   ]
  },
  {
   "cell_type": "code",
   "execution_count": 456,
   "metadata": {},
   "outputs": [
    {
     "data": {
      "text/html": [
       "<div>\n",
       "<style scoped>\n",
       "    .dataframe tbody tr th:only-of-type {\n",
       "        vertical-align: middle;\n",
       "    }\n",
       "\n",
       "    .dataframe tbody tr th {\n",
       "        vertical-align: top;\n",
       "    }\n",
       "\n",
       "    .dataframe thead th {\n",
       "        text-align: right;\n",
       "    }\n",
       "</style>\n",
       "<table border=\"1\" class=\"dataframe\">\n",
       "  <thead>\n",
       "    <tr style=\"text-align: right;\">\n",
       "      <th></th>\n",
       "      <th>Unnamed: 0</th>\n",
       "      <th>fecha</th>\n",
       "      <th>HORA declarada</th>\n",
       "      <th>Ruta</th>\n",
       "      <th>OperadOR</th>\n",
       "      <th>flight_no</th>\n",
       "      <th>route</th>\n",
       "      <th>ac_type</th>\n",
       "      <th>registration</th>\n",
       "      <th>cn_ln</th>\n",
       "      <th>all_aboard</th>\n",
       "      <th>PASAJEROS A BORDO</th>\n",
       "      <th>crew_aboard</th>\n",
       "      <th>cantidad de fallecidos</th>\n",
       "      <th>passenger_fatalities</th>\n",
       "      <th>crew_fatalities</th>\n",
       "      <th>ground</th>\n",
       "      <th>summary</th>\n",
       "    </tr>\n",
       "  </thead>\n",
       "  <tbody>\n",
       "    <tr>\n",
       "      <th>0</th>\n",
       "      <td>0</td>\n",
       "      <td>September 17, 1908</td>\n",
       "      <td>1718</td>\n",
       "      <td>Fort Myer, Virginia</td>\n",
       "      <td>Military - U.S. Army</td>\n",
       "      <td>?</td>\n",
       "      <td>Demonstration</td>\n",
       "      <td>Wright Flyer III</td>\n",
       "      <td>?</td>\n",
       "      <td>1</td>\n",
       "      <td>2</td>\n",
       "      <td>1</td>\n",
       "      <td>1</td>\n",
       "      <td>1</td>\n",
       "      <td>1</td>\n",
       "      <td>0</td>\n",
       "      <td>0</td>\n",
       "      <td>During a demonstration flight, a U.S. Army fly...</td>\n",
       "    </tr>\n",
       "    <tr>\n",
       "      <th>1</th>\n",
       "      <td>1</td>\n",
       "      <td>September 07, 1909</td>\n",
       "      <td>?</td>\n",
       "      <td>Juvisy-sur-Orge, France</td>\n",
       "      <td>?</td>\n",
       "      <td>?</td>\n",
       "      <td>Air show</td>\n",
       "      <td>Wright Byplane</td>\n",
       "      <td>SC1</td>\n",
       "      <td>?</td>\n",
       "      <td>1</td>\n",
       "      <td>0</td>\n",
       "      <td>1</td>\n",
       "      <td>1</td>\n",
       "      <td>0</td>\n",
       "      <td>0</td>\n",
       "      <td>0</td>\n",
       "      <td>Eugene Lefebvre was the first pilot to ever be...</td>\n",
       "    </tr>\n",
       "    <tr>\n",
       "      <th>2</th>\n",
       "      <td>2</td>\n",
       "      <td>July 12, 1912</td>\n",
       "      <td>0630</td>\n",
       "      <td>Atlantic City, New Jersey</td>\n",
       "      <td>Military - U.S. Navy</td>\n",
       "      <td>?</td>\n",
       "      <td>Test flight</td>\n",
       "      <td>Dirigible</td>\n",
       "      <td>?</td>\n",
       "      <td>?</td>\n",
       "      <td>5</td>\n",
       "      <td>0</td>\n",
       "      <td>5</td>\n",
       "      <td>5</td>\n",
       "      <td>0</td>\n",
       "      <td>5</td>\n",
       "      <td>0</td>\n",
       "      <td>First U.S. dirigible Akron exploded just offsh...</td>\n",
       "    </tr>\n",
       "    <tr>\n",
       "      <th>3</th>\n",
       "      <td>3</td>\n",
       "      <td>August 06, 1913</td>\n",
       "      <td>?</td>\n",
       "      <td>Victoria, British Columbia, Canada</td>\n",
       "      <td>Private</td>\n",
       "      <td>?</td>\n",
       "      <td>?</td>\n",
       "      <td>Curtiss seaplane</td>\n",
       "      <td>?</td>\n",
       "      <td>?</td>\n",
       "      <td>1</td>\n",
       "      <td>0</td>\n",
       "      <td>1</td>\n",
       "      <td>1</td>\n",
       "      <td>0</td>\n",
       "      <td>1</td>\n",
       "      <td>0</td>\n",
       "      <td>The first fatal airplane accident in Canada oc...</td>\n",
       "    </tr>\n",
       "    <tr>\n",
       "      <th>4</th>\n",
       "      <td>4</td>\n",
       "      <td>September 09, 1913</td>\n",
       "      <td>1830</td>\n",
       "      <td>Over the North Sea</td>\n",
       "      <td>Military - German Navy</td>\n",
       "      <td>?</td>\n",
       "      <td>?</td>\n",
       "      <td>Zeppelin L-1 (airship)</td>\n",
       "      <td>?</td>\n",
       "      <td>?</td>\n",
       "      <td>20</td>\n",
       "      <td>?</td>\n",
       "      <td>?</td>\n",
       "      <td>14</td>\n",
       "      <td>?</td>\n",
       "      <td>?</td>\n",
       "      <td>0</td>\n",
       "      <td>The airship flew into a thunderstorm and encou...</td>\n",
       "    </tr>\n",
       "  </tbody>\n",
       "</table>\n",
       "</div>"
      ],
      "text/plain": [
       "   Unnamed: 0               fecha HORA declarada  \\\n",
       "0           0  September 17, 1908           1718   \n",
       "1           1  September 07, 1909              ?   \n",
       "2           2       July 12, 1912           0630   \n",
       "3           3     August 06, 1913              ?   \n",
       "4           4  September 09, 1913           1830   \n",
       "\n",
       "                                 Ruta                OperadOR flight_no  \\\n",
       "0                 Fort Myer, Virginia    Military - U.S. Army         ?   \n",
       "1             Juvisy-sur-Orge, France                       ?         ?   \n",
       "2           Atlantic City, New Jersey    Military - U.S. Navy         ?   \n",
       "3  Victoria, British Columbia, Canada                 Private         ?   \n",
       "4                  Over the North Sea  Military - German Navy         ?   \n",
       "\n",
       "           route                 ac_type registration cn_ln all_aboard  \\\n",
       "0  Demonstration        Wright Flyer III            ?     1          2   \n",
       "1       Air show          Wright Byplane          SC1     ?          1   \n",
       "2    Test flight               Dirigible            ?     ?          5   \n",
       "3              ?        Curtiss seaplane            ?     ?          1   \n",
       "4              ?  Zeppelin L-1 (airship)            ?     ?         20   \n",
       "\n",
       "  PASAJEROS A BORDO crew_aboard cantidad de fallecidos passenger_fatalities  \\\n",
       "0                 1           1                      1                    1   \n",
       "1                 0           1                      1                    0   \n",
       "2                 0           5                      5                    0   \n",
       "3                 0           1                      1                    0   \n",
       "4                 ?           ?                     14                    ?   \n",
       "\n",
       "  crew_fatalities ground                                            summary  \n",
       "0               0      0  During a demonstration flight, a U.S. Army fly...  \n",
       "1               0      0  Eugene Lefebvre was the first pilot to ever be...  \n",
       "2               5      0  First U.S. dirigible Akron exploded just offsh...  \n",
       "3               1      0  The first fatal airplane accident in Canada oc...  \n",
       "4               ?      0  The airship flew into a thunderstorm and encou...  "
      ]
     },
     "execution_count": 456,
     "metadata": {},
     "output_type": "execute_result"
    }
   ],
   "source": [
    "df.head()"
   ]
  },
  {
   "cell_type": "code",
   "execution_count": 457,
   "metadata": {},
   "outputs": [
    {
     "data": {
      "text/html": [
       "<div>\n",
       "<style scoped>\n",
       "    .dataframe tbody tr th:only-of-type {\n",
       "        vertical-align: middle;\n",
       "    }\n",
       "\n",
       "    .dataframe tbody tr th {\n",
       "        vertical-align: top;\n",
       "    }\n",
       "\n",
       "    .dataframe thead th {\n",
       "        text-align: right;\n",
       "    }\n",
       "</style>\n",
       "<table border=\"1\" class=\"dataframe\">\n",
       "  <thead>\n",
       "    <tr style=\"text-align: right;\">\n",
       "      <th></th>\n",
       "      <th>index</th>\n",
       "      <th>fecha</th>\n",
       "      <th>hora_declarada</th>\n",
       "      <th>lugar_accidente</th>\n",
       "      <th>operador</th>\n",
       "      <th>vuelo_nro</th>\n",
       "      <th>ruta</th>\n",
       "      <th>tipo_avion</th>\n",
       "      <th>registro</th>\n",
       "      <th>cn_ln</th>\n",
       "      <th>total_a_bordo</th>\n",
       "      <th>pasajeros_a_bordo</th>\n",
       "      <th>tripulacion_a_bordo</th>\n",
       "      <th>cantidad_de_fallecidos</th>\n",
       "      <th>pasajeros_fallecidos</th>\n",
       "      <th>tripulacion_fallecidos</th>\n",
       "      <th>fallecidos_en_tierra</th>\n",
       "      <th>resumen</th>\n",
       "    </tr>\n",
       "  </thead>\n",
       "  <tbody>\n",
       "    <tr>\n",
       "      <th>0</th>\n",
       "      <td>0</td>\n",
       "      <td>September 17, 1908</td>\n",
       "      <td>1718</td>\n",
       "      <td>Fort Myer, Virginia</td>\n",
       "      <td>Military - U.S. Army</td>\n",
       "      <td>?</td>\n",
       "      <td>Demonstration</td>\n",
       "      <td>Wright Flyer III</td>\n",
       "      <td>?</td>\n",
       "      <td>1</td>\n",
       "      <td>2</td>\n",
       "      <td>1</td>\n",
       "      <td>1</td>\n",
       "      <td>1</td>\n",
       "      <td>1</td>\n",
       "      <td>0</td>\n",
       "      <td>0</td>\n",
       "      <td>During a demonstration flight, a U.S. Army fly...</td>\n",
       "    </tr>\n",
       "    <tr>\n",
       "      <th>1</th>\n",
       "      <td>1</td>\n",
       "      <td>September 07, 1909</td>\n",
       "      <td>?</td>\n",
       "      <td>Juvisy-sur-Orge, France</td>\n",
       "      <td>?</td>\n",
       "      <td>?</td>\n",
       "      <td>Air show</td>\n",
       "      <td>Wright Byplane</td>\n",
       "      <td>SC1</td>\n",
       "      <td>?</td>\n",
       "      <td>1</td>\n",
       "      <td>0</td>\n",
       "      <td>1</td>\n",
       "      <td>1</td>\n",
       "      <td>0</td>\n",
       "      <td>0</td>\n",
       "      <td>0</td>\n",
       "      <td>Eugene Lefebvre was the first pilot to ever be...</td>\n",
       "    </tr>\n",
       "    <tr>\n",
       "      <th>2</th>\n",
       "      <td>2</td>\n",
       "      <td>July 12, 1912</td>\n",
       "      <td>0630</td>\n",
       "      <td>Atlantic City, New Jersey</td>\n",
       "      <td>Military - U.S. Navy</td>\n",
       "      <td>?</td>\n",
       "      <td>Test flight</td>\n",
       "      <td>Dirigible</td>\n",
       "      <td>?</td>\n",
       "      <td>?</td>\n",
       "      <td>5</td>\n",
       "      <td>0</td>\n",
       "      <td>5</td>\n",
       "      <td>5</td>\n",
       "      <td>0</td>\n",
       "      <td>5</td>\n",
       "      <td>0</td>\n",
       "      <td>First U.S. dirigible Akron exploded just offsh...</td>\n",
       "    </tr>\n",
       "  </tbody>\n",
       "</table>\n",
       "</div>"
      ],
      "text/plain": [
       "   index               fecha hora_declarada            lugar_accidente  \\\n",
       "0      0  September 17, 1908           1718        Fort Myer, Virginia   \n",
       "1      1  September 07, 1909              ?    Juvisy-sur-Orge, France   \n",
       "2      2       July 12, 1912           0630  Atlantic City, New Jersey   \n",
       "\n",
       "               operador vuelo_nro           ruta        tipo_avion registro  \\\n",
       "0  Military - U.S. Army         ?  Demonstration  Wright Flyer III        ?   \n",
       "1                     ?         ?       Air show    Wright Byplane      SC1   \n",
       "2  Military - U.S. Navy         ?    Test flight         Dirigible        ?   \n",
       "\n",
       "  cn_ln total_a_bordo pasajeros_a_bordo tripulacion_a_bordo  \\\n",
       "0     1             2                 1                   1   \n",
       "1     ?             1                 0                   1   \n",
       "2     ?             5                 0                   5   \n",
       "\n",
       "  cantidad_de_fallecidos pasajeros_fallecidos tripulacion_fallecidos  \\\n",
       "0                      1                    1                      0   \n",
       "1                      1                    0                      0   \n",
       "2                      5                    0                      5   \n",
       "\n",
       "  fallecidos_en_tierra                                            resumen  \n",
       "0                    0  During a demonstration flight, a U.S. Army fly...  \n",
       "1                    0  Eugene Lefebvre was the first pilot to ever be...  \n",
       "2                    0  First U.S. dirigible Akron exploded just offsh...  "
      ]
     },
     "execution_count": 457,
     "metadata": {},
     "output_type": "execute_result"
    }
   ],
   "source": [
    "df.columns = ['index', 'fecha', 'hora_declarada', 'lugar_accidente', 'operador', 'vuelo_nro', 'ruta', 'tipo_avion', 'registro', 'cn_ln', 'total_a_bordo', 'pasajeros_a_bordo', 'tripulacion_a_bordo', 'cantidad_de_fallecidos',\n",
    "           'pasajeros_fallecidos', 'tripulacion_fallecidos', 'fallecidos_en_tierra', 'resumen']\n",
    "\n",
    "df.head(3)"
   ]
  },
  {
   "cell_type": "markdown",
   "metadata": {},
   "source": [
    "cambiando el formato literal de fecha a datetime"
   ]
  },
  {
   "cell_type": "code",
   "execution_count": 458,
   "metadata": {},
   "outputs": [
    {
     "data": {
      "text/plain": [
       "0   1908-09-17\n",
       "1   1909-09-07\n",
       "2   1912-07-12\n",
       "3   1913-08-06\n",
       "4   1913-09-09\n",
       "Name: fecha, dtype: datetime64[ns]"
      ]
     },
     "execution_count": 458,
     "metadata": {},
     "output_type": "execute_result"
    }
   ],
   "source": [
    "df['fecha'] = pd.to_datetime(df['fecha'])\n",
    "df['fecha'].head()"
   ]
  },
  {
   "cell_type": "code",
   "execution_count": 459,
   "metadata": {},
   "outputs": [],
   "source": [
    "# df['aux_hora'] = df['hora_declarada'].apply(lambda x: len(x))\n",
    "# df['aux_hora'].value_counts()"
   ]
  },
  {
   "cell_type": "code",
   "execution_count": 460,
   "metadata": {},
   "outputs": [],
   "source": [
    "def normalize_hour(value):\n",
    "    value = value.replace('?', '00:00')\n",
    "    value = value.replace('c ', '')\n",
    "    value = value.replace('Z', '')\n",
    "    value = value.replace('c:', '')\n",
    "    value = value.replace(' ', '')\n",
    "    value = value.replace(':', '')\n",
    "    value = value.replace(';', '')\n",
    "    \n",
    "    if ':' not in value:\n",
    "        return value\n",
    "    elif value[0] == ':':\n",
    "        return f'00{value}'\n",
    "    elif value[-1] == ':':\n",
    "        return f'{value}00'\n",
    "    elif len(value) == 4:\n",
    "        return '0' + value\n",
    "    else:\n",
    "        return value\n",
    "    \n",
    "df['hora_declarada'] = df['hora_declarada'].apply(lambda x: normalize_hour(x))"
   ]
  },
  {
   "cell_type": "code",
   "execution_count": 461,
   "metadata": {},
   "outputs": [],
   "source": [
    "df['anio'] = df['fecha'].dt.year"
   ]
  },
  {
   "cell_type": "code",
   "execution_count": 462,
   "metadata": {},
   "outputs": [],
   "source": [
    "df['mes'] = df['fecha'].dt.month"
   ]
  },
  {
   "cell_type": "code",
   "execution_count": 463,
   "metadata": {},
   "outputs": [],
   "source": [
    "df['dia'] = df['fecha'].dt.day"
   ]
  },
  {
   "cell_type": "code",
   "execution_count": 464,
   "metadata": {},
   "outputs": [
    {
     "data": {
      "text/plain": [
       "0    17:18\n",
       "1    00:00\n",
       "2    06:30\n",
       "3    00:00\n",
       "4    18:30\n",
       "Name: hora_declarada, dtype: object"
      ]
     },
     "execution_count": 464,
     "metadata": {},
     "output_type": "execute_result"
    }
   ],
   "source": [
    "# df['hora_declarada'] = pd.to_datetime(df['hora_declarada'], format='%H%M').dt.time\n",
    "df['hora_declarada'] = pd.to_datetime(df['hora_declarada'], format='%H%M').dt.strftime('%H:%M')\n",
    "\n",
    "df['hora_declarada'].head()"
   ]
  },
  {
   "cell_type": "code",
   "execution_count": 465,
   "metadata": {},
   "outputs": [
    {
     "data": {
      "text/plain": [
       "{'Over North Carolina',\n",
       " 'Over the Andaman Sea',\n",
       " 'Over the Atlantic Ocean',\n",
       " 'Over the English Channel',\n",
       " 'Over the Gulf of Finland',\n",
       " 'Over the Mediterranean',\n",
       " 'Over the Mediterranean Sea',\n",
       " 'Over the North Atlantic',\n",
       " 'Over the North Pacific Ocean',\n",
       " 'Over the North Sea',\n",
       " 'Over the Pacific Ocean',\n",
       " 'Over the Pearl River, China',\n",
       " 'Over the Persian Gulf, near Bandar Abbas, Iran'}"
      ]
     },
     "execution_count": 465,
     "metadata": {},
     "output_type": "execute_result"
    }
   ],
   "source": [
    "lista_paises = df['lugar_accidente'].tolist()\n",
    "mares_oceanos = []\n",
    "for i in lista_paises:\n",
    "    if 'over ' in i.lower():\n",
    "        mares_oceanos.append(i)\n",
    "        \n",
    "lista_mares = set(mares_oceanos)\n",
    "lista_mares"
   ]
  },
  {
   "cell_type": "code",
   "execution_count": 466,
   "metadata": {},
   "outputs": [
    {
     "data": {
      "text/plain": [
       "0                      Fort Myer, Virginia\n",
       "1                  Juvisy-sur-Orge, France\n",
       "2                Atlantic City, New Jersey\n",
       "3       Victoria, British Columbia, Canada\n",
       "4                       Over the North Sea\n",
       "                       ...                \n",
       "5003                    Near Butte, Alaska\n",
       "5004                  Near Kaduna, Nigeria\n",
       "5005            Near Pyin Oo Lwin, Myanmar\n",
       "5006            Patikul, Sulu, Philippines\n",
       "5007                        Palana, Russia\n",
       "Name: lugar_accidente, Length: 5008, dtype: object"
      ]
     },
     "execution_count": 466,
     "metadata": {},
     "output_type": "execute_result"
    }
   ],
   "source": [
    "df['lugar_accidente']"
   ]
  },
  {
   "cell_type": "code",
   "execution_count": 467,
   "metadata": {},
   "outputs": [],
   "source": [
    "df2 = pd.read_csv('./cities.csv')\n",
    "\n",
    "list1 = df2['country_name'].str.lower().tolist()\n",
    "list2 = df2['state_name'].str.lower().tolist()\n",
    "list3 = df2['name'].str.lower().tolist()"
   ]
  },
  {
   "cell_type": "code",
   "execution_count": 468,
   "metadata": {},
   "outputs": [
    {
     "name": "stdout",
     "output_type": "stream",
     "text": [
      "150890\n",
      "150890\n",
      "150890\n"
     ]
    }
   ],
   "source": [
    "print(len(list1))\n",
    "print(len(list2))\n",
    "print(len(list3))"
   ]
  },
  {
   "cell_type": "code",
   "execution_count": 469,
   "metadata": {},
   "outputs": [
    {
     "data": {
      "text/plain": [
       "'United Kingdom'"
      ]
     },
     "execution_count": 469,
     "metadata": {},
     "output_type": "execute_result"
    }
   ],
   "source": [
    "def get_country(value):\n",
    "    new_value = value.split(', ')\n",
    "    try:\n",
    "        index = list1.index(new_value[-1].lower())\n",
    "    except:\n",
    "        try:\n",
    "            index = list2.index(new_value[-1].lower())\n",
    "        except:\n",
    "            try:\n",
    "                index = list3.index(new_value[-1].lower())\n",
    "            except:\n",
    "                return 'no encontrado'\n",
    "    return list1[index].title()\n",
    "    \n",
    "get_country('Off West Hartlepool, England')"
   ]
  },
  {
   "cell_type": "code",
   "execution_count": 470,
   "metadata": {},
   "outputs": [],
   "source": [
    "df = df[df['lugar_accidente']!='?']"
   ]
  },
  {
   "cell_type": "code",
   "execution_count": 471,
   "metadata": {},
   "outputs": [
    {
     "name": "stderr",
     "output_type": "stream",
     "text": [
      "C:\\Users\\KhorneFlakes\\AppData\\Local\\Temp\\ipykernel_5164\\1079818205.py:1: FutureWarning: The default value of regex will change from True to False in a future version.\n",
      "  df['lugar_accidente'] = df['lugar_accidente'].str.replace('. United Kingdom', ', United Kingdom')\n"
     ]
    }
   ],
   "source": [
    "df['lugar_accidente'] = df['lugar_accidente'].str.replace('. United Kingdom', ', United Kingdom')\n",
    "df['lugar_accidente'] = df['lugar_accidente'].str.replace('Bulgeria', 'Bulgaria')\n",
    "df['lugar_accidente'] = df['lugar_accidente'].str.replace('Unied Kingdom', 'United Kingdom')\n",
    "df['lugar_accidente'] = df['lugar_accidente'].str.replace('South of Gibraltar', 'Gibraltar')\n",
    "df['lugar_accidente'] = df['lugar_accidente'].str.replace('NY', 'New York')\n",
    "df['lugar_accidente'] = df['lugar_accidente'].str.replace('WY', 'Wyoming')\n",
    "df['lugar_accidente'] = df['lugar_accidente'].str.replace(',Brazil', ', Brazil')\n",
    "df['lugar_accidente'] = df['lugar_accidente'].str.replace('  ', ' ')"
   ]
  },
  {
   "cell_type": "code",
   "execution_count": 472,
   "metadata": {},
   "outputs": [],
   "source": [
    "df['pais'] = df['lugar_accidente'].apply(lambda x: get_country(x))"
   ]
  },
  {
   "cell_type": "code",
   "execution_count": 473,
   "metadata": {},
   "outputs": [
    {
     "data": {
      "text/plain": [
       "United States    1018\n",
       "no encontrado     600\n",
       "Russia            256\n",
       "Brazil            175\n",
       "Colombia          152\n",
       "                 ... \n",
       "Saint Lucia         1\n",
       "Latvia              1\n",
       "Bhutan              1\n",
       "Oman                1\n",
       "Micronesia          1\n",
       "Name: pais, Length: 160, dtype: int64"
      ]
     },
     "execution_count": 473,
     "metadata": {},
     "output_type": "execute_result"
    }
   ],
   "source": [
    "df['pais'].value_counts()"
   ]
  },
  {
   "cell_type": "code",
   "execution_count": 474,
   "metadata": {},
   "outputs": [
    {
     "name": "stdout",
     "output_type": "stream",
     "text": [
      "index: 0\n",
      "fecha: 0\n",
      "hora_declarada: 0\n",
      "lugar_accidente: 0\n",
      "operador: 10\n",
      "vuelo_nro: 3677\n",
      "ruta: 758\n",
      "tipo_avion: 13\n",
      "registro: 269\n",
      "cn_ln: 663\n",
      "total_a_bordo: 17\n",
      "pasajeros_a_bordo: 221\n",
      "tripulacion_a_bordo: 219\n",
      "cantidad_de_fallecidos: 8\n",
      "pasajeros_fallecidos: 235\n",
      "tripulacion_fallecidos: 235\n",
      "fallecidos_en_tierra: 43\n",
      "resumen: 59\n",
      "anio: 0\n",
      "mes: 0\n",
      "dia: 0\n",
      "pais: 0\n"
     ]
    }
   ],
   "source": [
    "for i in df.columns:\n",
    "    print(i + ': ' + str(df[i][df[i]=='?'].count()))"
   ]
  },
  {
   "cell_type": "code",
   "execution_count": 475,
   "metadata": {},
   "outputs": [],
   "source": [
    "df = df.replace('?', 0)"
   ]
  },
  {
   "cell_type": "code",
   "execution_count": 476,
   "metadata": {},
   "outputs": [],
   "source": [
    "df['total_a_bordo'] = pd.to_numeric(df['total_a_bordo'])\n",
    "df['pasajeros_a_bordo'] = pd.to_numeric(df['pasajeros_a_bordo'])\n",
    "df['tripulacion_a_bordo'] = pd.to_numeric(df['tripulacion_a_bordo'])\n",
    "df['cantidad_de_fallecidos'] = pd.to_numeric(df['cantidad_de_fallecidos'])\n",
    "df['pasajeros_fallecidos'] = pd.to_numeric(df['pasajeros_fallecidos'])\n",
    "df['tripulacion_fallecidos'] = pd.to_numeric(df['tripulacion_fallecidos'])\n",
    "df['fallecidos_en_tierra'] = pd.to_numeric(df['fallecidos_en_tierra'])"
   ]
  },
  {
   "cell_type": "code",
   "execution_count": null,
   "metadata": {},
   "outputs": [],
   "source": [
    "# buscar como usar valores de otra columna de pandas con funciones lambda if\n",
    "# df['total_a_bordo'] = df['total_a_bordo'].apply(lambda x: if x==0)"
   ]
  },
  {
   "cell_type": "code",
   "execution_count": 477,
   "metadata": {},
   "outputs": [
    {
     "name": "stdout",
     "output_type": "stream",
     "text": [
      "index: 0\n",
      "fecha: 0\n",
      "hora_declarada: 0\n",
      "lugar_accidente: 0\n",
      "operador: 0\n",
      "vuelo_nro: 0\n",
      "ruta: 0\n",
      "tipo_avion: 0\n",
      "registro: 0\n",
      "cn_ln: 0\n",
      "total_a_bordo: 0\n",
      "pasajeros_a_bordo: 0\n",
      "tripulacion_a_bordo: 0\n",
      "cantidad_de_fallecidos: 0\n",
      "pasajeros_fallecidos: 0\n",
      "tripulacion_fallecidos: 0\n",
      "fallecidos_en_tierra: 0\n",
      "resumen: 0\n",
      "anio: 0\n",
      "mes: 0\n",
      "dia: 0\n",
      "pais: 0\n"
     ]
    }
   ],
   "source": [
    "for i in df.columns:\n",
    "    print(i + ': ' + str(df[i][df[i]=='?'].count()))"
   ]
  },
  {
   "cell_type": "code",
   "execution_count": 478,
   "metadata": {},
   "outputs": [
    {
     "data": {
      "text/plain": [
       "index                              int64\n",
       "fecha                     datetime64[ns]\n",
       "hora_declarada                    object\n",
       "lugar_accidente                   object\n",
       "operador                          object\n",
       "vuelo_nro                         object\n",
       "ruta                              object\n",
       "tipo_avion                        object\n",
       "registro                          object\n",
       "cn_ln                             object\n",
       "total_a_bordo                      int64\n",
       "pasajeros_a_bordo                  int64\n",
       "tripulacion_a_bordo                int64\n",
       "cantidad_de_fallecidos             int64\n",
       "pasajeros_fallecidos               int64\n",
       "tripulacion_fallecidos             int64\n",
       "fallecidos_en_tierra               int64\n",
       "resumen                           object\n",
       "anio                               int64\n",
       "mes                                int64\n",
       "dia                                int64\n",
       "pais                              object\n",
       "dtype: object"
      ]
     },
     "execution_count": 478,
     "metadata": {},
     "output_type": "execute_result"
    }
   ],
   "source": [
    "df.dtypes"
   ]
  },
  {
   "cell_type": "code",
   "execution_count": 479,
   "metadata": {},
   "outputs": [
    {
     "data": {
      "text/plain": [
       "0             269\n",
       "49              3\n",
       "SU-AFK          2\n",
       "2               2\n",
       "19              2\n",
       "             ... \n",
       "CCCP-61663      1\n",
       "EC-ANR          1\n",
       "N1301N          1\n",
       "CS-THB          1\n",
       "RA-26085        1\n",
       "Name: registro, Length: 4699, dtype: int64"
      ]
     },
     "execution_count": 479,
     "metadata": {},
     "output_type": "execute_result"
    }
   ],
   "source": [
    "df['registro'].value_counts()"
   ]
  }
 ],
 "metadata": {
  "kernelspec": {
   "display_name": "Python 3.10.5 64-bit",
   "language": "python",
   "name": "python3"
  },
  "language_info": {
   "codemirror_mode": {
    "name": "ipython",
    "version": 3
   },
   "file_extension": ".py",
   "mimetype": "text/x-python",
   "name": "python",
   "nbconvert_exporter": "python",
   "pygments_lexer": "ipython3",
   "version": "3.10.5"
  },
  "orig_nbformat": 4,
  "vscode": {
   "interpreter": {
    "hash": "26de051ba29f2982a8de78e945f0abaf191376122a1563185a90213a26c5da77"
   }
  }
 },
 "nbformat": 4,
 "nbformat_minor": 2
}
