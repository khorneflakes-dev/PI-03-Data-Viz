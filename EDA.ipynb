{
 "cells": [
  {
   "cell_type": "code",
   "execution_count": 48,
   "metadata": {},
   "outputs": [],
   "source": [
    "import pandas as pd"
   ]
  },
  {
   "cell_type": "markdown",
   "metadata": {},
   "source": [
    "cargando el dataset de accientes de aviones y revisando si posee algun valor nulo del total de filas"
   ]
  },
  {
   "cell_type": "code",
   "execution_count": 49,
   "metadata": {},
   "outputs": [
    {
     "name": "stdout",
     "output_type": "stream",
     "text": [
      "(5008, 18)\n",
      "Unnamed: 0                0\n",
      "fecha                     0\n",
      "HORA declarada            0\n",
      "Ruta                      0\n",
      "OperadOR                  0\n",
      "flight_no                 0\n",
      "route                     0\n",
      "ac_type                   0\n",
      "registration              0\n",
      "cn_ln                     0\n",
      "all_aboard                0\n",
      "PASAJEROS A BORDO         0\n",
      "crew_aboard               0\n",
      "cantidad de fallecidos    0\n",
      "passenger_fatalities      0\n",
      "crew_fatalities           0\n",
      "ground                    0\n",
      "summary                   0\n",
      "dtype: int64\n"
     ]
    }
   ],
   "source": [
    "df = pd.read_csv('./AccidentesAviones.csv')\n",
    "print(df.shape)\n",
    "print(df.isnull().sum())"
   ]
  },
  {
   "cell_type": "markdown",
   "metadata": {},
   "source": [
    "evaluando la cantidad de valores faltantes que estarian compuestos por el caracter de interrogacion"
   ]
  },
  {
   "cell_type": "code",
   "execution_count": 50,
   "metadata": {},
   "outputs": [
    {
     "data": {
      "application/vnd.plotly.v1+json": {
       "config": {
        "plotlyServerURL": "https://plot.ly"
       },
       "data": [
        {
         "alignmentgroup": "True",
         "hovertemplate": "Columnas=%{x}<br>Faltantes=%{y}<extra></extra>",
         "legendgroup": "",
         "marker": {
          "color": "#636efa",
          "pattern": {
           "shape": ""
          }
         },
         "name": "",
         "offsetgroup": "",
         "orientation": "v",
         "showlegend": false,
         "textposition": "auto",
         "type": "bar",
         "x": [
          "Unnamed: 0",
          "fecha",
          "HORA declarada",
          "Ruta",
          "OperadOR",
          "flight_no",
          "route",
          "ac_type",
          "registration",
          "cn_ln",
          "all_aboard",
          "PASAJEROS A BORDO",
          "crew_aboard",
          "cantidad de fallecidos",
          "passenger_fatalities",
          "crew_fatalities",
          "ground",
          "summary"
         ],
         "xaxis": "x",
         "y": [
          0,
          0,
          1504,
          5,
          10,
          3682,
          762,
          13,
          272,
          667,
          17,
          221,
          219,
          8,
          235,
          235,
          44,
          59
         ],
         "yaxis": "y"
        }
       ],
       "layout": {
        "barmode": "relative",
        "legend": {
         "tracegroupgap": 0
        },
        "margin": {
         "t": 60
        },
        "template": {
         "data": {
          "bar": [
           {
            "error_x": {
             "color": "#2a3f5f"
            },
            "error_y": {
             "color": "#2a3f5f"
            },
            "marker": {
             "line": {
              "color": "#E5ECF6",
              "width": 0.5
             },
             "pattern": {
              "fillmode": "overlay",
              "size": 10,
              "solidity": 0.2
             }
            },
            "type": "bar"
           }
          ],
          "barpolar": [
           {
            "marker": {
             "line": {
              "color": "#E5ECF6",
              "width": 0.5
             },
             "pattern": {
              "fillmode": "overlay",
              "size": 10,
              "solidity": 0.2
             }
            },
            "type": "barpolar"
           }
          ],
          "carpet": [
           {
            "aaxis": {
             "endlinecolor": "#2a3f5f",
             "gridcolor": "white",
             "linecolor": "white",
             "minorgridcolor": "white",
             "startlinecolor": "#2a3f5f"
            },
            "baxis": {
             "endlinecolor": "#2a3f5f",
             "gridcolor": "white",
             "linecolor": "white",
             "minorgridcolor": "white",
             "startlinecolor": "#2a3f5f"
            },
            "type": "carpet"
           }
          ],
          "choropleth": [
           {
            "colorbar": {
             "outlinewidth": 0,
             "ticks": ""
            },
            "type": "choropleth"
           }
          ],
          "contour": [
           {
            "colorbar": {
             "outlinewidth": 0,
             "ticks": ""
            },
            "colorscale": [
             [
              0,
              "#0d0887"
             ],
             [
              0.1111111111111111,
              "#46039f"
             ],
             [
              0.2222222222222222,
              "#7201a8"
             ],
             [
              0.3333333333333333,
              "#9c179e"
             ],
             [
              0.4444444444444444,
              "#bd3786"
             ],
             [
              0.5555555555555556,
              "#d8576b"
             ],
             [
              0.6666666666666666,
              "#ed7953"
             ],
             [
              0.7777777777777778,
              "#fb9f3a"
             ],
             [
              0.8888888888888888,
              "#fdca26"
             ],
             [
              1,
              "#f0f921"
             ]
            ],
            "type": "contour"
           }
          ],
          "contourcarpet": [
           {
            "colorbar": {
             "outlinewidth": 0,
             "ticks": ""
            },
            "type": "contourcarpet"
           }
          ],
          "heatmap": [
           {
            "colorbar": {
             "outlinewidth": 0,
             "ticks": ""
            },
            "colorscale": [
             [
              0,
              "#0d0887"
             ],
             [
              0.1111111111111111,
              "#46039f"
             ],
             [
              0.2222222222222222,
              "#7201a8"
             ],
             [
              0.3333333333333333,
              "#9c179e"
             ],
             [
              0.4444444444444444,
              "#bd3786"
             ],
             [
              0.5555555555555556,
              "#d8576b"
             ],
             [
              0.6666666666666666,
              "#ed7953"
             ],
             [
              0.7777777777777778,
              "#fb9f3a"
             ],
             [
              0.8888888888888888,
              "#fdca26"
             ],
             [
              1,
              "#f0f921"
             ]
            ],
            "type": "heatmap"
           }
          ],
          "heatmapgl": [
           {
            "colorbar": {
             "outlinewidth": 0,
             "ticks": ""
            },
            "colorscale": [
             [
              0,
              "#0d0887"
             ],
             [
              0.1111111111111111,
              "#46039f"
             ],
             [
              0.2222222222222222,
              "#7201a8"
             ],
             [
              0.3333333333333333,
              "#9c179e"
             ],
             [
              0.4444444444444444,
              "#bd3786"
             ],
             [
              0.5555555555555556,
              "#d8576b"
             ],
             [
              0.6666666666666666,
              "#ed7953"
             ],
             [
              0.7777777777777778,
              "#fb9f3a"
             ],
             [
              0.8888888888888888,
              "#fdca26"
             ],
             [
              1,
              "#f0f921"
             ]
            ],
            "type": "heatmapgl"
           }
          ],
          "histogram": [
           {
            "marker": {
             "pattern": {
              "fillmode": "overlay",
              "size": 10,
              "solidity": 0.2
             }
            },
            "type": "histogram"
           }
          ],
          "histogram2d": [
           {
            "colorbar": {
             "outlinewidth": 0,
             "ticks": ""
            },
            "colorscale": [
             [
              0,
              "#0d0887"
             ],
             [
              0.1111111111111111,
              "#46039f"
             ],
             [
              0.2222222222222222,
              "#7201a8"
             ],
             [
              0.3333333333333333,
              "#9c179e"
             ],
             [
              0.4444444444444444,
              "#bd3786"
             ],
             [
              0.5555555555555556,
              "#d8576b"
             ],
             [
              0.6666666666666666,
              "#ed7953"
             ],
             [
              0.7777777777777778,
              "#fb9f3a"
             ],
             [
              0.8888888888888888,
              "#fdca26"
             ],
             [
              1,
              "#f0f921"
             ]
            ],
            "type": "histogram2d"
           }
          ],
          "histogram2dcontour": [
           {
            "colorbar": {
             "outlinewidth": 0,
             "ticks": ""
            },
            "colorscale": [
             [
              0,
              "#0d0887"
             ],
             [
              0.1111111111111111,
              "#46039f"
             ],
             [
              0.2222222222222222,
              "#7201a8"
             ],
             [
              0.3333333333333333,
              "#9c179e"
             ],
             [
              0.4444444444444444,
              "#bd3786"
             ],
             [
              0.5555555555555556,
              "#d8576b"
             ],
             [
              0.6666666666666666,
              "#ed7953"
             ],
             [
              0.7777777777777778,
              "#fb9f3a"
             ],
             [
              0.8888888888888888,
              "#fdca26"
             ],
             [
              1,
              "#f0f921"
             ]
            ],
            "type": "histogram2dcontour"
           }
          ],
          "mesh3d": [
           {
            "colorbar": {
             "outlinewidth": 0,
             "ticks": ""
            },
            "type": "mesh3d"
           }
          ],
          "parcoords": [
           {
            "line": {
             "colorbar": {
              "outlinewidth": 0,
              "ticks": ""
             }
            },
            "type": "parcoords"
           }
          ],
          "pie": [
           {
            "automargin": true,
            "type": "pie"
           }
          ],
          "scatter": [
           {
            "fillpattern": {
             "fillmode": "overlay",
             "size": 10,
             "solidity": 0.2
            },
            "type": "scatter"
           }
          ],
          "scatter3d": [
           {
            "line": {
             "colorbar": {
              "outlinewidth": 0,
              "ticks": ""
             }
            },
            "marker": {
             "colorbar": {
              "outlinewidth": 0,
              "ticks": ""
             }
            },
            "type": "scatter3d"
           }
          ],
          "scattercarpet": [
           {
            "marker": {
             "colorbar": {
              "outlinewidth": 0,
              "ticks": ""
             }
            },
            "type": "scattercarpet"
           }
          ],
          "scattergeo": [
           {
            "marker": {
             "colorbar": {
              "outlinewidth": 0,
              "ticks": ""
             }
            },
            "type": "scattergeo"
           }
          ],
          "scattergl": [
           {
            "marker": {
             "colorbar": {
              "outlinewidth": 0,
              "ticks": ""
             }
            },
            "type": "scattergl"
           }
          ],
          "scattermapbox": [
           {
            "marker": {
             "colorbar": {
              "outlinewidth": 0,
              "ticks": ""
             }
            },
            "type": "scattermapbox"
           }
          ],
          "scatterpolar": [
           {
            "marker": {
             "colorbar": {
              "outlinewidth": 0,
              "ticks": ""
             }
            },
            "type": "scatterpolar"
           }
          ],
          "scatterpolargl": [
           {
            "marker": {
             "colorbar": {
              "outlinewidth": 0,
              "ticks": ""
             }
            },
            "type": "scatterpolargl"
           }
          ],
          "scatterternary": [
           {
            "marker": {
             "colorbar": {
              "outlinewidth": 0,
              "ticks": ""
             }
            },
            "type": "scatterternary"
           }
          ],
          "surface": [
           {
            "colorbar": {
             "outlinewidth": 0,
             "ticks": ""
            },
            "colorscale": [
             [
              0,
              "#0d0887"
             ],
             [
              0.1111111111111111,
              "#46039f"
             ],
             [
              0.2222222222222222,
              "#7201a8"
             ],
             [
              0.3333333333333333,
              "#9c179e"
             ],
             [
              0.4444444444444444,
              "#bd3786"
             ],
             [
              0.5555555555555556,
              "#d8576b"
             ],
             [
              0.6666666666666666,
              "#ed7953"
             ],
             [
              0.7777777777777778,
              "#fb9f3a"
             ],
             [
              0.8888888888888888,
              "#fdca26"
             ],
             [
              1,
              "#f0f921"
             ]
            ],
            "type": "surface"
           }
          ],
          "table": [
           {
            "cells": {
             "fill": {
              "color": "#EBF0F8"
             },
             "line": {
              "color": "white"
             }
            },
            "header": {
             "fill": {
              "color": "#C8D4E3"
             },
             "line": {
              "color": "white"
             }
            },
            "type": "table"
           }
          ]
         },
         "layout": {
          "annotationdefaults": {
           "arrowcolor": "#2a3f5f",
           "arrowhead": 0,
           "arrowwidth": 1
          },
          "autotypenumbers": "strict",
          "coloraxis": {
           "colorbar": {
            "outlinewidth": 0,
            "ticks": ""
           }
          },
          "colorscale": {
           "diverging": [
            [
             0,
             "#8e0152"
            ],
            [
             0.1,
             "#c51b7d"
            ],
            [
             0.2,
             "#de77ae"
            ],
            [
             0.3,
             "#f1b6da"
            ],
            [
             0.4,
             "#fde0ef"
            ],
            [
             0.5,
             "#f7f7f7"
            ],
            [
             0.6,
             "#e6f5d0"
            ],
            [
             0.7,
             "#b8e186"
            ],
            [
             0.8,
             "#7fbc41"
            ],
            [
             0.9,
             "#4d9221"
            ],
            [
             1,
             "#276419"
            ]
           ],
           "sequential": [
            [
             0,
             "#0d0887"
            ],
            [
             0.1111111111111111,
             "#46039f"
            ],
            [
             0.2222222222222222,
             "#7201a8"
            ],
            [
             0.3333333333333333,
             "#9c179e"
            ],
            [
             0.4444444444444444,
             "#bd3786"
            ],
            [
             0.5555555555555556,
             "#d8576b"
            ],
            [
             0.6666666666666666,
             "#ed7953"
            ],
            [
             0.7777777777777778,
             "#fb9f3a"
            ],
            [
             0.8888888888888888,
             "#fdca26"
            ],
            [
             1,
             "#f0f921"
            ]
           ],
           "sequentialminus": [
            [
             0,
             "#0d0887"
            ],
            [
             0.1111111111111111,
             "#46039f"
            ],
            [
             0.2222222222222222,
             "#7201a8"
            ],
            [
             0.3333333333333333,
             "#9c179e"
            ],
            [
             0.4444444444444444,
             "#bd3786"
            ],
            [
             0.5555555555555556,
             "#d8576b"
            ],
            [
             0.6666666666666666,
             "#ed7953"
            ],
            [
             0.7777777777777778,
             "#fb9f3a"
            ],
            [
             0.8888888888888888,
             "#fdca26"
            ],
            [
             1,
             "#f0f921"
            ]
           ]
          },
          "colorway": [
           "#636efa",
           "#EF553B",
           "#00cc96",
           "#ab63fa",
           "#FFA15A",
           "#19d3f3",
           "#FF6692",
           "#B6E880",
           "#FF97FF",
           "#FECB52"
          ],
          "font": {
           "color": "#2a3f5f"
          },
          "geo": {
           "bgcolor": "white",
           "lakecolor": "white",
           "landcolor": "#E5ECF6",
           "showlakes": true,
           "showland": true,
           "subunitcolor": "white"
          },
          "hoverlabel": {
           "align": "left"
          },
          "hovermode": "closest",
          "mapbox": {
           "style": "light"
          },
          "paper_bgcolor": "white",
          "plot_bgcolor": "#E5ECF6",
          "polar": {
           "angularaxis": {
            "gridcolor": "white",
            "linecolor": "white",
            "ticks": ""
           },
           "bgcolor": "#E5ECF6",
           "radialaxis": {
            "gridcolor": "white",
            "linecolor": "white",
            "ticks": ""
           }
          },
          "scene": {
           "xaxis": {
            "backgroundcolor": "#E5ECF6",
            "gridcolor": "white",
            "gridwidth": 2,
            "linecolor": "white",
            "showbackground": true,
            "ticks": "",
            "zerolinecolor": "white"
           },
           "yaxis": {
            "backgroundcolor": "#E5ECF6",
            "gridcolor": "white",
            "gridwidth": 2,
            "linecolor": "white",
            "showbackground": true,
            "ticks": "",
            "zerolinecolor": "white"
           },
           "zaxis": {
            "backgroundcolor": "#E5ECF6",
            "gridcolor": "white",
            "gridwidth": 2,
            "linecolor": "white",
            "showbackground": true,
            "ticks": "",
            "zerolinecolor": "white"
           }
          },
          "shapedefaults": {
           "line": {
            "color": "#2a3f5f"
           }
          },
          "ternary": {
           "aaxis": {
            "gridcolor": "white",
            "linecolor": "white",
            "ticks": ""
           },
           "baxis": {
            "gridcolor": "white",
            "linecolor": "white",
            "ticks": ""
           },
           "bgcolor": "#E5ECF6",
           "caxis": {
            "gridcolor": "white",
            "linecolor": "white",
            "ticks": ""
           }
          },
          "title": {
           "x": 0.05
          },
          "xaxis": {
           "automargin": true,
           "gridcolor": "white",
           "linecolor": "white",
           "ticks": "",
           "title": {
            "standoff": 15
           },
           "zerolinecolor": "white",
           "zerolinewidth": 2
          },
          "yaxis": {
           "automargin": true,
           "gridcolor": "white",
           "linecolor": "white",
           "ticks": "",
           "title": {
            "standoff": 15
           },
           "zerolinecolor": "white",
           "zerolinewidth": 2
          }
         }
        },
        "xaxis": {
         "anchor": "y",
         "domain": [
          0,
          1
         ],
         "title": {
          "text": "Columnas"
         }
        },
        "yaxis": {
         "anchor": "x",
         "domain": [
          0,
          1
         ],
         "title": {
          "text": "Faltantes"
         }
        }
       }
      }
     },
     "metadata": {},
     "output_type": "display_data"
    }
   ],
   "source": [
    "faltantes = []\n",
    "\n",
    "import plotly.express as px\n",
    "\n",
    "faltantes = []\n",
    "\n",
    "for i in df.columns:\n",
    "    try:\n",
    "        faltante =  df['Unnamed: 0'][df[i]=='?'].count()\n",
    "    except:\n",
    "        faltante = 0\n",
    "    faltantes.append(faltante)\n",
    "\n",
    "df_faltantes = pd.DataFrame()\n",
    "df_faltantes['Columnas'] = df.columns\n",
    "df_faltantes['Faltantes'] = faltantes\n",
    "df_faltantes\n",
    "fig = px.bar(df_faltantes, x='Columnas', y='Faltantes')\n",
    "fig.show()"
   ]
  },
  {
   "cell_type": "markdown",
   "metadata": {},
   "source": [
    "evaluando el tipo de datos que posee cada columna para su posterior tratamiento"
   ]
  },
  {
   "cell_type": "code",
   "execution_count": 51,
   "metadata": {},
   "outputs": [
    {
     "data": {
      "text/plain": [
       "Unnamed: 0                 int64\n",
       "fecha                     object\n",
       "HORA declarada            object\n",
       "Ruta                      object\n",
       "OperadOR                  object\n",
       "flight_no                 object\n",
       "route                     object\n",
       "ac_type                   object\n",
       "registration              object\n",
       "cn_ln                     object\n",
       "all_aboard                object\n",
       "PASAJEROS A BORDO         object\n",
       "crew_aboard               object\n",
       "cantidad de fallecidos    object\n",
       "passenger_fatalities      object\n",
       "crew_fatalities           object\n",
       "ground                    object\n",
       "summary                   object\n",
       "dtype: object"
      ]
     },
     "execution_count": 51,
     "metadata": {},
     "output_type": "execute_result"
    }
   ],
   "source": [
    "df.dtypes"
   ]
  },
  {
   "cell_type": "markdown",
   "metadata": {},
   "source": [
    "cambiando el nombre a las columnas existentes hasta el momento"
   ]
  },
  {
   "cell_type": "code",
   "execution_count": 52,
   "metadata": {},
   "outputs": [],
   "source": [
    "df.columns = ['index', 'fecha', 'hora_declarada', 'lugar_accidente', 'operador', 'vuelo_nro', 'ruta', 'tipo_avion', 'registro', 'cn_ln', 'total_a_bordo', 'pasajeros_a_bordo', 'tripulacion_a_bordo', 'cantidad_de_fallecidos',\n",
    "           'pasajeros_fallecidos', 'tripulacion_fallecidos', 'fallecidos_en_tierra', 'resumen']"
   ]
  },
  {
   "cell_type": "code",
   "execution_count": 53,
   "metadata": {},
   "outputs": [
    {
     "data": {
      "text/plain": [
       "0                    Wright Flyer III\n",
       "1                      Wright Byplane\n",
       "2                           Dirigible\n",
       "3                    Curtiss seaplane\n",
       "4              Zeppelin L-1 (airship)\n",
       "                    ...              \n",
       "5003      Eurocopter AS350B3 Ecureuil\n",
       "5004    Beechcraft B300 King Air 350i\n",
       "5005                 Beechcraft 1900D\n",
       "5006         Lockheed C-130H Hercules\n",
       "5007               Antonov An 26B-100\n",
       "Name: tipo_avion, Length: 5008, dtype: object"
      ]
     },
     "execution_count": 53,
     "metadata": {},
     "output_type": "execute_result"
    }
   ],
   "source": [
    "df['tipo_avion']"
   ]
  },
  {
   "cell_type": "markdown",
   "metadata": {},
   "source": [
    "cambiando el formato literal de fecha a datetime"
   ]
  },
  {
   "cell_type": "code",
   "execution_count": 54,
   "metadata": {},
   "outputs": [
    {
     "data": {
      "text/plain": [
       "0   1908-09-17\n",
       "1   1909-09-07\n",
       "2   1912-07-12\n",
       "3   1913-08-06\n",
       "4   1913-09-09\n",
       "Name: fecha, dtype: datetime64[ns]"
      ]
     },
     "execution_count": 54,
     "metadata": {},
     "output_type": "execute_result"
    }
   ],
   "source": [
    "df['fecha'] = pd.to_datetime(df['fecha'])\n",
    "df['fecha'].head()"
   ]
  },
  {
   "cell_type": "markdown",
   "metadata": {},
   "source": [
    "para normalizar la columna de hora usamos una funcion personalizada y agregamos replaces para quitar caracteres ajenos a la hora"
   ]
  },
  {
   "cell_type": "code",
   "execution_count": 55,
   "metadata": {},
   "outputs": [
    {
     "data": {
      "text/plain": [
       "0    17:18\n",
       "1    00:00\n",
       "2    06:30\n",
       "3    00:00\n",
       "4    18:30\n",
       "Name: hora_declarada, dtype: object"
      ]
     },
     "execution_count": 55,
     "metadata": {},
     "output_type": "execute_result"
    }
   ],
   "source": [
    "def normalize_hour(value):\n",
    "    value = value.replace('?', '00:00')\n",
    "    value = value.replace('c ', '')\n",
    "    value = value.replace('Z', '')\n",
    "    value = value.replace('c:', '')\n",
    "    value = value.replace(' ', '')\n",
    "    value = value.replace(':', '')\n",
    "    value = value.replace(';', '')\n",
    "    \n",
    "    if ':' not in value:\n",
    "        return value\n",
    "    elif value[0] == ':':\n",
    "        return f'00{value}'\n",
    "    elif value[-1] == ':':\n",
    "        return f'{value}00'\n",
    "    elif len(value) == 4:\n",
    "        return '0' + value\n",
    "    else:\n",
    "        return value\n",
    "    \n",
    "df['hora_declarada'] = df['hora_declarada'].apply(lambda x: normalize_hour(x))\n",
    "df['hora_declarada'] = pd.to_datetime(df['hora_declarada'], format='%H%M').dt.strftime('%H:%M')\n",
    "\n",
    "df['hora_declarada'].head()"
   ]
  },
  {
   "cell_type": "markdown",
   "metadata": {},
   "source": [
    "agregando la columna de anio del accidente"
   ]
  },
  {
   "cell_type": "code",
   "execution_count": 56,
   "metadata": {},
   "outputs": [],
   "source": [
    "df['anio'] = df['fecha'].dt.year"
   ]
  },
  {
   "cell_type": "markdown",
   "metadata": {},
   "source": [
    "agregando la columna de mes del accidente"
   ]
  },
  {
   "cell_type": "code",
   "execution_count": 57,
   "metadata": {},
   "outputs": [],
   "source": [
    "df['mes'] = df['fecha'].dt.month"
   ]
  },
  {
   "cell_type": "markdown",
   "metadata": {},
   "source": [
    "agregando la columna de dia del accidente"
   ]
  },
  {
   "cell_type": "code",
   "execution_count": 58,
   "metadata": {},
   "outputs": [],
   "source": [
    "df['dia'] = df['fecha'].dt.day"
   ]
  },
  {
   "cell_type": "markdown",
   "metadata": {},
   "source": [
    "para normalizar la columna paises haremos uso de un dataset adicional, que contiene informacion de los paises, ciudades y capitales del mundo"
   ]
  },
  {
   "cell_type": "code",
   "execution_count": 59,
   "metadata": {},
   "outputs": [],
   "source": [
    "df2 = pd.read_csv('./cities.csv')\n",
    "\n",
    "list1 = df2['country_name'].str.lower().tolist()\n",
    "list2 = df2['state_name'].str.lower().tolist()\n",
    "list3 = df2['name'].str.lower().tolist()"
   ]
  },
  {
   "cell_type": "code",
   "execution_count": 60,
   "metadata": {},
   "outputs": [
    {
     "name": "stdout",
     "output_type": "stream",
     "text": [
      "150890\n",
      "150890\n",
      "150890\n"
     ]
    }
   ],
   "source": [
    "print(len(list1))\n",
    "print(len(list2))\n",
    "print(len(list3))"
   ]
  },
  {
   "cell_type": "markdown",
   "metadata": {},
   "source": [
    "armamos una funcion personalizada que nos permita buscar el nombre de la ciudad y nos permita retornar el nombre del pais, ya que el dataset de accidentes posee informacion desde los 1900 en el transcurso de ese anio hasta la fecha hay paises que ya dejaron de serlo, por lo mismo se encontrara merma en esta columna\n",
    "\n",
    "opte por usar try except y no ciclos for por que la carga computacional es demasiada, ya que la opcion a usar este dataset seria conectarse a una API y hacer consultas para obtener los datos de las columnas de ubicacion faltantes pero estos tiene un limite de consultas y el tiempo de espera para que termine es muy tardado"
   ]
  },
  {
   "cell_type": "code",
   "execution_count": 61,
   "metadata": {},
   "outputs": [
    {
     "data": {
      "text/plain": [
       "'United Kingdom'"
      ]
     },
     "execution_count": 61,
     "metadata": {},
     "output_type": "execute_result"
    }
   ],
   "source": [
    "def get_country(value):\n",
    "    new_value = value.split(', ')\n",
    "    try:\n",
    "        index = list1.index(new_value[-1].lower())\n",
    "    except:\n",
    "        try:\n",
    "            index = list2.index(new_value[-1].lower())\n",
    "        except:\n",
    "            try:\n",
    "                index = list3.index(new_value[-1].lower())\n",
    "            except:\n",
    "                return 'no encontrado'\n",
    "    return list1[index].title()\n",
    "    \n",
    "get_country('Off West Hartlepool, England')"
   ]
  },
  {
   "cell_type": "markdown",
   "metadata": {},
   "source": [
    "quitamos las columnas que no tengan informacion ya que no tenemos opcion de obtenerla de otra columna"
   ]
  },
  {
   "cell_type": "code",
   "execution_count": 62,
   "metadata": {},
   "outputs": [],
   "source": [
    "df = df[df['lugar_accidente']!='?']"
   ]
  },
  {
   "cell_type": "code",
   "execution_count": 63,
   "metadata": {},
   "outputs": [
    {
     "name": "stderr",
     "output_type": "stream",
     "text": [
      "C:\\Users\\KhorneFlakes\\AppData\\Local\\Temp\\ipykernel_9628\\1079818205.py:1: FutureWarning:\n",
      "\n",
      "The default value of regex will change from True to False in a future version.\n",
      "\n"
     ]
    }
   ],
   "source": [
    "df['lugar_accidente'] = df['lugar_accidente'].str.replace('. United Kingdom', ', United Kingdom')\n",
    "df['lugar_accidente'] = df['lugar_accidente'].str.replace('Bulgeria', 'Bulgaria')\n",
    "df['lugar_accidente'] = df['lugar_accidente'].str.replace('Unied Kingdom', 'United Kingdom')\n",
    "df['lugar_accidente'] = df['lugar_accidente'].str.replace('South of Gibraltar', 'Gibraltar')\n",
    "df['lugar_accidente'] = df['lugar_accidente'].str.replace('NY', 'New York')\n",
    "df['lugar_accidente'] = df['lugar_accidente'].str.replace('WY', 'Wyoming')\n",
    "df['lugar_accidente'] = df['lugar_accidente'].str.replace(',Brazil', ', Brazil')\n",
    "df['lugar_accidente'] = df['lugar_accidente'].str.replace('  ', ' ')"
   ]
  },
  {
   "cell_type": "markdown",
   "metadata": {},
   "source": [
    "hacemos uso de la funcion que creamos lineas atras para obtener el nombre del pais"
   ]
  },
  {
   "cell_type": "code",
   "execution_count": 64,
   "metadata": {},
   "outputs": [
    {
     "data": {
      "text/plain": [
       "0       United States\n",
       "1              France\n",
       "2       United States\n",
       "3              Canada\n",
       "4       no encontrado\n",
       "            ...      \n",
       "5003    United States\n",
       "5004          Nigeria\n",
       "5005          Myanmar\n",
       "5006      Philippines\n",
       "5007           Russia\n",
       "Name: pais, Length: 5003, dtype: object"
      ]
     },
     "execution_count": 64,
     "metadata": {},
     "output_type": "execute_result"
    }
   ],
   "source": [
    "df['pais'] = df['lugar_accidente'].apply(lambda x: get_country(x))\n",
    "df['pais']"
   ]
  },
  {
   "cell_type": "markdown",
   "metadata": {},
   "source": [
    "hacemos uso de la libreria pycountry para obtener el codigo en formato ISO 3166-1 alpha-3, para poder plotear un mapa con la cantidad de accidentes en el mundo"
   ]
  },
  {
   "cell_type": "code",
   "execution_count": 65,
   "metadata": {},
   "outputs": [
    {
     "name": "stdout",
     "output_type": "stream",
     "text": [
      "CN\n"
     ]
    },
    {
     "data": {
      "text/plain": [
       "0           USA\n",
       "1           FRA\n",
       "2           USA\n",
       "3           CAN\n",
       "4       no code\n",
       "         ...   \n",
       "5003        USA\n",
       "5004        NGA\n",
       "5005        MMR\n",
       "5006        PHL\n",
       "5007        RUS\n",
       "Name: code, Length: 5003, dtype: object"
      ]
     },
     "execution_count": 65,
     "metadata": {},
     "output_type": "execute_result"
    }
   ],
   "source": [
    "import pycountry_convert as pc\n",
    "\n",
    "country_code = pc.country_name_to_country_alpha2(\"China\", cn_name_format=\"default\")\n",
    "print(country_code)\n",
    "\n",
    "def get_code(value):\n",
    "    try:\n",
    "        code = pc.country_name_to_country_alpha3(value, cn_name_format=\"default\")\n",
    "        return code\n",
    "    except:\n",
    "        return 'no code'\n",
    "\n",
    "df['code'] = df['pais'].apply(lambda x: get_code(x))\n",
    "df['code']"
   ]
  },
  {
   "cell_type": "markdown",
   "metadata": {},
   "source": [
    "haciendo uso de la ultima libreria que usamos creamos una funcion que nos permita obtener el continente del pais en una nueva columna para usarla en una grafica en el dashboard futuro"
   ]
  },
  {
   "cell_type": "code",
   "execution_count": 66,
   "metadata": {},
   "outputs": [
    {
     "data": {
      "text/plain": [
       "0       North America\n",
       "1              Europe\n",
       "2       North America\n",
       "3       North America\n",
       "4        no continent\n",
       "            ...      \n",
       "5003    North America\n",
       "5004           Africa\n",
       "5005             Asia\n",
       "5006             Asia\n",
       "5007           Europe\n",
       "Name: continent, Length: 5003, dtype: object"
      ]
     },
     "execution_count": 66,
     "metadata": {},
     "output_type": "execute_result"
    }
   ],
   "source": [
    "def country_to_continent(country_name):\n",
    "    try:\n",
    "        country_alpha2 = pc.country_name_to_country_alpha2(country_name)\n",
    "        country_continent_code = pc.country_alpha2_to_continent_code(country_alpha2)\n",
    "        country_continent_name = pc.convert_continent_code_to_continent_name(country_continent_code)\n",
    "        return country_continent_name\n",
    "    except:\n",
    "        return 'no continent'\n",
    "\n",
    "df['continent'] = df['pais'].apply(lambda x: country_to_continent(x))\n",
    "df['continent']"
   ]
  },
  {
   "cell_type": "code",
   "execution_count": 67,
   "metadata": {},
   "outputs": [
    {
     "data": {
      "text/plain": [
       "USA        1018\n",
       "no code     602\n",
       "RUS         256\n",
       "BRA         175\n",
       "COL         152\n",
       "           ... \n",
       "LCA           1\n",
       "LVA           1\n",
       "SVN           1\n",
       "BTN           1\n",
       "FSM           1\n",
       "Name: code, Length: 159, dtype: int64"
      ]
     },
     "execution_count": 67,
     "metadata": {},
     "output_type": "execute_result"
    }
   ],
   "source": [
    "df.code.value_counts()"
   ]
  },
  {
   "cell_type": "code",
   "execution_count": 68,
   "metadata": {},
   "outputs": [
    {
     "data": {
      "text/plain": [
       "United States    1018\n",
       "no encontrado     600\n",
       "Russia            256\n",
       "Brazil            175\n",
       "Colombia          152\n",
       "                 ... \n",
       "Saint Lucia         1\n",
       "Latvia              1\n",
       "Bhutan              1\n",
       "Oman                1\n",
       "Micronesia          1\n",
       "Name: pais, Length: 160, dtype: int64"
      ]
     },
     "execution_count": 68,
     "metadata": {},
     "output_type": "execute_result"
    }
   ],
   "source": [
    "df['pais'].value_counts()"
   ]
  },
  {
   "cell_type": "markdown",
   "metadata": {},
   "source": [
    "hay varios caracteres que si bien no estan vacios equivalen a lo mismo, estos contienen el caracter de interrogacion\n",
    "\n",
    "abajo vemos cuantos de estan por columna hasta esta etapa de la limpieza"
   ]
  },
  {
   "cell_type": "code",
   "execution_count": 69,
   "metadata": {},
   "outputs": [
    {
     "name": "stdout",
     "output_type": "stream",
     "text": [
      "index: 0\n",
      "fecha: 0\n",
      "hora_declarada: 0\n",
      "lugar_accidente: 0\n",
      "operador: 10\n",
      "vuelo_nro: 3677\n",
      "ruta: 758\n",
      "tipo_avion: 13\n",
      "registro: 269\n",
      "cn_ln: 663\n",
      "total_a_bordo: 17\n",
      "pasajeros_a_bordo: 221\n",
      "tripulacion_a_bordo: 219\n",
      "cantidad_de_fallecidos: 8\n",
      "pasajeros_fallecidos: 235\n",
      "tripulacion_fallecidos: 235\n",
      "fallecidos_en_tierra: 43\n",
      "resumen: 59\n",
      "anio: 0\n",
      "mes: 0\n",
      "dia: 0\n",
      "pais: 0\n",
      "code: 0\n",
      "continent: 0\n"
     ]
    }
   ],
   "source": [
    "for i in df.columns:\n",
    "    print(i + ': ' + str(df[i][df[i]=='?'].count()))"
   ]
  },
  {
   "cell_type": "markdown",
   "metadata": {},
   "source": [
    "reemplazamos los valores faltantes con ceros"
   ]
  },
  {
   "cell_type": "code",
   "execution_count": 70,
   "metadata": {},
   "outputs": [],
   "source": [
    "df = df.replace('?', 0)"
   ]
  },
  {
   "cell_type": "markdown",
   "metadata": {},
   "source": [
    "cambiamos a formato numero las columnas con datos faltantes, esto para poder hacer operaciones y poder completarlas"
   ]
  },
  {
   "cell_type": "code",
   "execution_count": 71,
   "metadata": {},
   "outputs": [],
   "source": [
    "df['total_a_bordo'] = pd.to_numeric(df['total_a_bordo'])\n",
    "df['pasajeros_a_bordo'] = pd.to_numeric(df['pasajeros_a_bordo'])\n",
    "df['tripulacion_a_bordo'] = pd.to_numeric(df['tripulacion_a_bordo'])\n",
    "df['cantidad_de_fallecidos'] = pd.to_numeric(df['cantidad_de_fallecidos'])\n",
    "df['pasajeros_fallecidos'] = pd.to_numeric(df['pasajeros_fallecidos'])\n",
    "df['tripulacion_fallecidos'] = pd.to_numeric(df['tripulacion_fallecidos'])\n",
    "df['fallecidos_en_tierra'] = pd.to_numeric(df['fallecidos_en_tierra'])"
   ]
  },
  {
   "cell_type": "markdown",
   "metadata": {},
   "source": [
    "mediante una serie de ecuaciones hacemos uso de columnas numericas de las cuales si tenemos datos para completar otras columnas numericas"
   ]
  },
  {
   "cell_type": "code",
   "execution_count": 72,
   "metadata": {},
   "outputs": [],
   "source": [
    "df['total_a_bordo'] = df.apply(lambda x: \n",
    "    (x['pasajeros_a_bordo'] + x['tripulacion_a_bordo']) if (x['total_a_bordo']==0) else x['total_a_bordo'], axis=1)"
   ]
  },
  {
   "cell_type": "code",
   "execution_count": 73,
   "metadata": {},
   "outputs": [],
   "source": [
    "df['tripulacion_a_bordo'] = df.apply(lambda x: \n",
    "    (x['total_a_bordo'] - x['pasajeros_a_bordo']) if (x['tripulacion_a_bordo']==0) else x['tripulacion_a_bordo'], axis=1)"
   ]
  },
  {
   "cell_type": "code",
   "execution_count": 74,
   "metadata": {},
   "outputs": [],
   "source": [
    "df['pasajeros_a_bordo'] = df.apply(lambda x: \n",
    "    (x['total_a_bordo'] - x['tripulacion_a_bordo']) if (x['pasajeros_a_bordo']==0) else x['pasajeros_a_bordo'], axis=1)"
   ]
  },
  {
   "cell_type": "code",
   "execution_count": 75,
   "metadata": {},
   "outputs": [],
   "source": [
    "df['cantidad_de_fallecidos'] = df.apply(lambda x: \n",
    "    (x['pasajeros_fallecidos'] + x['tripulacion_fallecidos']) if (x['cantidad_de_fallecidos']==0) else (x['cantidad_de_fallecidos']), axis=1)"
   ]
  },
  {
   "cell_type": "code",
   "execution_count": 76,
   "metadata": {},
   "outputs": [],
   "source": [
    "df['cantidad_de_fallecidos'] = df.apply(lambda x: \n",
    "    (x['pasajeros_fallecidos'] + x['tripulacion_fallecidos']) if (x['cantidad_de_fallecidos']==0) else (x['cantidad_de_fallecidos']), axis=1)"
   ]
  },
  {
   "cell_type": "code",
   "execution_count": 77,
   "metadata": {},
   "outputs": [],
   "source": [
    "df['cantidad_de_fallecidos'] = df.apply(lambda x: \n",
    "    (x['pasajeros_fallecidos'] + x['tripulacion_fallecidos']) if (x['cantidad_de_fallecidos']==0) else (x['cantidad_de_fallecidos']), axis=1)"
   ]
  },
  {
   "cell_type": "code",
   "execution_count": 78,
   "metadata": {},
   "outputs": [
    {
     "data": {
      "text/plain": [
       "0    1085\n",
       "Name: pasajeros_a_bordo, dtype: int64"
      ]
     },
     "execution_count": 78,
     "metadata": {},
     "output_type": "execute_result"
    }
   ],
   "source": [
    "df['total_a_bordo'][df['total_a_bordo']==0].value_counts()\n",
    "df['pasajeros_a_bordo'][df['pasajeros_a_bordo']==0].value_counts()"
   ]
  },
  {
   "cell_type": "markdown",
   "metadata": {},
   "source": [
    "revisamos que las columnas tratadas ya no posean valores faltantes"
   ]
  },
  {
   "cell_type": "code",
   "execution_count": 85,
   "metadata": {},
   "outputs": [
    {
     "name": "stdout",
     "output_type": "stream",
     "text": [
      "index: 0\n",
      "fecha: 0\n",
      "hora_declarada: 0\n",
      "lugar_accidente: 0\n",
      "operador: 0\n",
      "vuelo_nro: 0\n",
      "ruta: 0\n",
      "tipo_avion: 0\n",
      "registro: 0\n",
      "cn_ln: 0\n",
      "total_a_bordo: 0\n",
      "pasajeros_a_bordo: 0\n",
      "tripulacion_a_bordo: 0\n",
      "cantidad_de_fallecidos: 0\n",
      "pasajeros_fallecidos: 0\n",
      "tripulacion_fallecidos: 0\n",
      "fallecidos_en_tierra: 0\n",
      "resumen: 0\n",
      "anio: 0\n",
      "mes: 0\n",
      "dia: 0\n",
      "pais: 0\n",
      "code: 0\n",
      "continent: 0\n"
     ]
    }
   ],
   "source": [
    "for i in df.columns:\n",
    "    print(i + ': ' + str(df[i][df[i]=='?'].count()))"
   ]
  },
  {
   "cell_type": "code",
   "execution_count": 80,
   "metadata": {},
   "outputs": [
    {
     "data": {
      "text/plain": [
       "index                              int64\n",
       "fecha                     datetime64[ns]\n",
       "hora_declarada                    object\n",
       "lugar_accidente                   object\n",
       "operador                          object\n",
       "vuelo_nro                         object\n",
       "ruta                              object\n",
       "tipo_avion                        object\n",
       "registro                          object\n",
       "cn_ln                             object\n",
       "total_a_bordo                      int64\n",
       "pasajeros_a_bordo                  int64\n",
       "tripulacion_a_bordo                int64\n",
       "cantidad_de_fallecidos             int64\n",
       "pasajeros_fallecidos               int64\n",
       "tripulacion_fallecidos             int64\n",
       "fallecidos_en_tierra               int64\n",
       "resumen                           object\n",
       "anio                               int64\n",
       "mes                                int64\n",
       "dia                                int64\n",
       "pais                              object\n",
       "code                              object\n",
       "continent                         object\n",
       "dtype: object"
      ]
     },
     "execution_count": 80,
     "metadata": {},
     "output_type": "execute_result"
    }
   ],
   "source": [
    "df.dtypes"
   ]
  },
  {
   "cell_type": "markdown",
   "metadata": {},
   "source": [
    "con la tabla con las columnas que vamos a utilizar ya tratadas hacemos uso de SQLAlchemy para exportar este dataset procesado a una base de datos"
   ]
  },
  {
   "cell_type": "code",
   "execution_count": 81,
   "metadata": {},
   "outputs": [],
   "source": [
    "from sqlalchemy import create_engine\n",
    "\n",
    "engine = create_engine('sqlite:///data_viz.db', echo=True)\n",
    "\n",
    "sqlite_connection = engine.connect()\n",
    "\n",
    "df.to_sql('accidentes', sqlite_connection, index=False, if_exists='replace')\n",
    "\n",
    "sqlite_connection.close()"
   ]
  }
 ],
 "metadata": {
  "kernelspec": {
   "display_name": "Python 3.10.5 64-bit",
   "language": "python",
   "name": "python3"
  },
  "language_info": {
   "codemirror_mode": {
    "name": "ipython",
    "version": 3
   },
   "file_extension": ".py",
   "mimetype": "text/x-python",
   "name": "python",
   "nbconvert_exporter": "python",
   "pygments_lexer": "ipython3",
   "version": "3.10.5"
  },
  "orig_nbformat": 4,
  "vscode": {
   "interpreter": {
    "hash": "26de051ba29f2982a8de78e945f0abaf191376122a1563185a90213a26c5da77"
   }
  }
 },
 "nbformat": 4,
 "nbformat_minor": 2
}
